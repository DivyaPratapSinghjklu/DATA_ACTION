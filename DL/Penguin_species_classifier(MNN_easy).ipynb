{
  "nbformat": 4,
  "nbformat_minor": 0,
  "metadata": {
    "colab": {
      "provenance": []
    },
    "kernelspec": {
      "name": "python3",
      "display_name": "Python 3"
    },
    "language_info": {
      "name": "python"
    }
  },
  "cells": [
    {
      "cell_type": "markdown",
      "source": [
        "PENGUINS\n"
      ],
      "metadata": {
        "id": "0YDM3l-lMcy2"
      }
    },
    {
      "cell_type": "code",
      "execution_count": 28,
      "metadata": {
        "colab": {
          "base_uri": "https://localhost:8080/",
          "height": 423
        },
        "id": "SzERwcvHL-y-",
        "outputId": "b99a299c-2294-4534-b85d-8cb808c20c3a"
      },
      "outputs": [
        {
          "output_type": "execute_result",
          "data": {
            "text/plain": [
              "     CulmenLength  CulmenDepth  FlipperLength  BodyMass  Species\n",
              "0            39.1         18.7          181.0    3750.0        0\n",
              "1            39.5         17.4          186.0    3800.0        0\n",
              "2            40.3         18.0          195.0    3250.0        0\n",
              "4            36.7         19.3          193.0    3450.0        0\n",
              "5            39.3         20.6          190.0    3650.0        0\n",
              "..            ...          ...            ...       ...      ...\n",
              "339          55.8         19.8          207.0    4000.0        2\n",
              "340          43.5         18.1          202.0    3400.0        2\n",
              "341          49.6         18.2          193.0    3775.0        2\n",
              "342          50.8         19.0          210.0    4100.0        2\n",
              "343          50.2         18.7          198.0    3775.0        2\n",
              "\n",
              "[342 rows x 5 columns]"
            ],
            "text/html": [
              "\n",
              "  <div id=\"df-f785e50b-581c-4265-a747-8901633eafe0\">\n",
              "    <div class=\"colab-df-container\">\n",
              "      <div>\n",
              "<style scoped>\n",
              "    .dataframe tbody tr th:only-of-type {\n",
              "        vertical-align: middle;\n",
              "    }\n",
              "\n",
              "    .dataframe tbody tr th {\n",
              "        vertical-align: top;\n",
              "    }\n",
              "\n",
              "    .dataframe thead th {\n",
              "        text-align: right;\n",
              "    }\n",
              "</style>\n",
              "<table border=\"1\" class=\"dataframe\">\n",
              "  <thead>\n",
              "    <tr style=\"text-align: right;\">\n",
              "      <th></th>\n",
              "      <th>CulmenLength</th>\n",
              "      <th>CulmenDepth</th>\n",
              "      <th>FlipperLength</th>\n",
              "      <th>BodyMass</th>\n",
              "      <th>Species</th>\n",
              "    </tr>\n",
              "  </thead>\n",
              "  <tbody>\n",
              "    <tr>\n",
              "      <th>0</th>\n",
              "      <td>39.1</td>\n",
              "      <td>18.7</td>\n",
              "      <td>181.0</td>\n",
              "      <td>3750.0</td>\n",
              "      <td>0</td>\n",
              "    </tr>\n",
              "    <tr>\n",
              "      <th>1</th>\n",
              "      <td>39.5</td>\n",
              "      <td>17.4</td>\n",
              "      <td>186.0</td>\n",
              "      <td>3800.0</td>\n",
              "      <td>0</td>\n",
              "    </tr>\n",
              "    <tr>\n",
              "      <th>2</th>\n",
              "      <td>40.3</td>\n",
              "      <td>18.0</td>\n",
              "      <td>195.0</td>\n",
              "      <td>3250.0</td>\n",
              "      <td>0</td>\n",
              "    </tr>\n",
              "    <tr>\n",
              "      <th>4</th>\n",
              "      <td>36.7</td>\n",
              "      <td>19.3</td>\n",
              "      <td>193.0</td>\n",
              "      <td>3450.0</td>\n",
              "      <td>0</td>\n",
              "    </tr>\n",
              "    <tr>\n",
              "      <th>5</th>\n",
              "      <td>39.3</td>\n",
              "      <td>20.6</td>\n",
              "      <td>190.0</td>\n",
              "      <td>3650.0</td>\n",
              "      <td>0</td>\n",
              "    </tr>\n",
              "    <tr>\n",
              "      <th>...</th>\n",
              "      <td>...</td>\n",
              "      <td>...</td>\n",
              "      <td>...</td>\n",
              "      <td>...</td>\n",
              "      <td>...</td>\n",
              "    </tr>\n",
              "    <tr>\n",
              "      <th>339</th>\n",
              "      <td>55.8</td>\n",
              "      <td>19.8</td>\n",
              "      <td>207.0</td>\n",
              "      <td>4000.0</td>\n",
              "      <td>2</td>\n",
              "    </tr>\n",
              "    <tr>\n",
              "      <th>340</th>\n",
              "      <td>43.5</td>\n",
              "      <td>18.1</td>\n",
              "      <td>202.0</td>\n",
              "      <td>3400.0</td>\n",
              "      <td>2</td>\n",
              "    </tr>\n",
              "    <tr>\n",
              "      <th>341</th>\n",
              "      <td>49.6</td>\n",
              "      <td>18.2</td>\n",
              "      <td>193.0</td>\n",
              "      <td>3775.0</td>\n",
              "      <td>2</td>\n",
              "    </tr>\n",
              "    <tr>\n",
              "      <th>342</th>\n",
              "      <td>50.8</td>\n",
              "      <td>19.0</td>\n",
              "      <td>210.0</td>\n",
              "      <td>4100.0</td>\n",
              "      <td>2</td>\n",
              "    </tr>\n",
              "    <tr>\n",
              "      <th>343</th>\n",
              "      <td>50.2</td>\n",
              "      <td>18.7</td>\n",
              "      <td>198.0</td>\n",
              "      <td>3775.0</td>\n",
              "      <td>2</td>\n",
              "    </tr>\n",
              "  </tbody>\n",
              "</table>\n",
              "<p>342 rows × 5 columns</p>\n",
              "</div>\n",
              "      <button class=\"colab-df-convert\" onclick=\"convertToInteractive('df-f785e50b-581c-4265-a747-8901633eafe0')\"\n",
              "              title=\"Convert this dataframe to an interactive table.\"\n",
              "              style=\"display:none;\">\n",
              "        \n",
              "  <svg xmlns=\"http://www.w3.org/2000/svg\" height=\"24px\"viewBox=\"0 0 24 24\"\n",
              "       width=\"24px\">\n",
              "    <path d=\"M0 0h24v24H0V0z\" fill=\"none\"/>\n",
              "    <path d=\"M18.56 5.44l.94 2.06.94-2.06 2.06-.94-2.06-.94-.94-2.06-.94 2.06-2.06.94zm-11 1L8.5 8.5l.94-2.06 2.06-.94-2.06-.94L8.5 2.5l-.94 2.06-2.06.94zm10 10l.94 2.06.94-2.06 2.06-.94-2.06-.94-.94-2.06-.94 2.06-2.06.94z\"/><path d=\"M17.41 7.96l-1.37-1.37c-.4-.4-.92-.59-1.43-.59-.52 0-1.04.2-1.43.59L10.3 9.45l-7.72 7.72c-.78.78-.78 2.05 0 2.83L4 21.41c.39.39.9.59 1.41.59.51 0 1.02-.2 1.41-.59l7.78-7.78 2.81-2.81c.8-.78.8-2.07 0-2.86zM5.41 20L4 18.59l7.72-7.72 1.47 1.35L5.41 20z\"/>\n",
              "  </svg>\n",
              "      </button>\n",
              "      \n",
              "  <style>\n",
              "    .colab-df-container {\n",
              "      display:flex;\n",
              "      flex-wrap:wrap;\n",
              "      gap: 12px;\n",
              "    }\n",
              "\n",
              "    .colab-df-convert {\n",
              "      background-color: #E8F0FE;\n",
              "      border: none;\n",
              "      border-radius: 50%;\n",
              "      cursor: pointer;\n",
              "      display: none;\n",
              "      fill: #1967D2;\n",
              "      height: 32px;\n",
              "      padding: 0 0 0 0;\n",
              "      width: 32px;\n",
              "    }\n",
              "\n",
              "    .colab-df-convert:hover {\n",
              "      background-color: #E2EBFA;\n",
              "      box-shadow: 0px 1px 2px rgba(60, 64, 67, 0.3), 0px 1px 3px 1px rgba(60, 64, 67, 0.15);\n",
              "      fill: #174EA6;\n",
              "    }\n",
              "\n",
              "    [theme=dark] .colab-df-convert {\n",
              "      background-color: #3B4455;\n",
              "      fill: #D2E3FC;\n",
              "    }\n",
              "\n",
              "    [theme=dark] .colab-df-convert:hover {\n",
              "      background-color: #434B5C;\n",
              "      box-shadow: 0px 1px 3px 1px rgba(0, 0, 0, 0.15);\n",
              "      filter: drop-shadow(0px 1px 2px rgba(0, 0, 0, 0.3));\n",
              "      fill: #FFFFFF;\n",
              "    }\n",
              "  </style>\n",
              "\n",
              "      <script>\n",
              "        const buttonEl =\n",
              "          document.querySelector('#df-f785e50b-581c-4265-a747-8901633eafe0 button.colab-df-convert');\n",
              "        buttonEl.style.display =\n",
              "          google.colab.kernel.accessAllowed ? 'block' : 'none';\n",
              "\n",
              "        async function convertToInteractive(key) {\n",
              "          const element = document.querySelector('#df-f785e50b-581c-4265-a747-8901633eafe0');\n",
              "          const dataTable =\n",
              "            await google.colab.kernel.invokeFunction('convertToInteractive',\n",
              "                                                     [key], {});\n",
              "          if (!dataTable) return;\n",
              "\n",
              "          const docLinkHtml = 'Like what you see? Visit the ' +\n",
              "            '<a target=\"_blank\" href=https://colab.research.google.com/notebooks/data_table.ipynb>data table notebook</a>'\n",
              "            + ' to learn more about interactive tables.';\n",
              "          element.innerHTML = '';\n",
              "          dataTable['output_type'] = 'display_data';\n",
              "          await google.colab.output.renderOutput(dataTable, element);\n",
              "          const docLink = document.createElement('div');\n",
              "          docLink.innerHTML = docLinkHtml;\n",
              "          element.appendChild(docLink);\n",
              "        }\n",
              "      </script>\n",
              "    </div>\n",
              "  </div>\n",
              "  "
            ]
          },
          "metadata": {},
          "execution_count": 28
        }
      ],
      "source": [
        "import pandas as pd\n",
        "penguins=pd.read_csv('/content/penguins.csv').dropna()\n",
        "penguins"
      ]
    },
    {
      "cell_type": "code",
      "source": [
        "#manual scaling features as eep Learning models work best when features are on similar scales\n",
        "penguins['FlipperLength']=penguins['FlipperLength']/10\n",
        "penguins['BodyMass']=penguins['BodyMass']/100\n",
        "penguins"
      ],
      "metadata": {
        "colab": {
          "base_uri": "https://localhost:8080/",
          "height": 423
        },
        "id": "56057jHbMyFn",
        "outputId": "711b0965-a6f5-44a4-f4cb-4997e2a3996e"
      },
      "execution_count": 29,
      "outputs": [
        {
          "output_type": "execute_result",
          "data": {
            "text/plain": [
              "     CulmenLength  CulmenDepth  FlipperLength  BodyMass  Species\n",
              "0            39.1         18.7           18.1     37.50        0\n",
              "1            39.5         17.4           18.6     38.00        0\n",
              "2            40.3         18.0           19.5     32.50        0\n",
              "4            36.7         19.3           19.3     34.50        0\n",
              "5            39.3         20.6           19.0     36.50        0\n",
              "..            ...          ...            ...       ...      ...\n",
              "339          55.8         19.8           20.7     40.00        2\n",
              "340          43.5         18.1           20.2     34.00        2\n",
              "341          49.6         18.2           19.3     37.75        2\n",
              "342          50.8         19.0           21.0     41.00        2\n",
              "343          50.2         18.7           19.8     37.75        2\n",
              "\n",
              "[342 rows x 5 columns]"
            ],
            "text/html": [
              "\n",
              "  <div id=\"df-f2433894-9744-4dc0-8925-9354f344d3be\">\n",
              "    <div class=\"colab-df-container\">\n",
              "      <div>\n",
              "<style scoped>\n",
              "    .dataframe tbody tr th:only-of-type {\n",
              "        vertical-align: middle;\n",
              "    }\n",
              "\n",
              "    .dataframe tbody tr th {\n",
              "        vertical-align: top;\n",
              "    }\n",
              "\n",
              "    .dataframe thead th {\n",
              "        text-align: right;\n",
              "    }\n",
              "</style>\n",
              "<table border=\"1\" class=\"dataframe\">\n",
              "  <thead>\n",
              "    <tr style=\"text-align: right;\">\n",
              "      <th></th>\n",
              "      <th>CulmenLength</th>\n",
              "      <th>CulmenDepth</th>\n",
              "      <th>FlipperLength</th>\n",
              "      <th>BodyMass</th>\n",
              "      <th>Species</th>\n",
              "    </tr>\n",
              "  </thead>\n",
              "  <tbody>\n",
              "    <tr>\n",
              "      <th>0</th>\n",
              "      <td>39.1</td>\n",
              "      <td>18.7</td>\n",
              "      <td>18.1</td>\n",
              "      <td>37.50</td>\n",
              "      <td>0</td>\n",
              "    </tr>\n",
              "    <tr>\n",
              "      <th>1</th>\n",
              "      <td>39.5</td>\n",
              "      <td>17.4</td>\n",
              "      <td>18.6</td>\n",
              "      <td>38.00</td>\n",
              "      <td>0</td>\n",
              "    </tr>\n",
              "    <tr>\n",
              "      <th>2</th>\n",
              "      <td>40.3</td>\n",
              "      <td>18.0</td>\n",
              "      <td>19.5</td>\n",
              "      <td>32.50</td>\n",
              "      <td>0</td>\n",
              "    </tr>\n",
              "    <tr>\n",
              "      <th>4</th>\n",
              "      <td>36.7</td>\n",
              "      <td>19.3</td>\n",
              "      <td>19.3</td>\n",
              "      <td>34.50</td>\n",
              "      <td>0</td>\n",
              "    </tr>\n",
              "    <tr>\n",
              "      <th>5</th>\n",
              "      <td>39.3</td>\n",
              "      <td>20.6</td>\n",
              "      <td>19.0</td>\n",
              "      <td>36.50</td>\n",
              "      <td>0</td>\n",
              "    </tr>\n",
              "    <tr>\n",
              "      <th>...</th>\n",
              "      <td>...</td>\n",
              "      <td>...</td>\n",
              "      <td>...</td>\n",
              "      <td>...</td>\n",
              "      <td>...</td>\n",
              "    </tr>\n",
              "    <tr>\n",
              "      <th>339</th>\n",
              "      <td>55.8</td>\n",
              "      <td>19.8</td>\n",
              "      <td>20.7</td>\n",
              "      <td>40.00</td>\n",
              "      <td>2</td>\n",
              "    </tr>\n",
              "    <tr>\n",
              "      <th>340</th>\n",
              "      <td>43.5</td>\n",
              "      <td>18.1</td>\n",
              "      <td>20.2</td>\n",
              "      <td>34.00</td>\n",
              "      <td>2</td>\n",
              "    </tr>\n",
              "    <tr>\n",
              "      <th>341</th>\n",
              "      <td>49.6</td>\n",
              "      <td>18.2</td>\n",
              "      <td>19.3</td>\n",
              "      <td>37.75</td>\n",
              "      <td>2</td>\n",
              "    </tr>\n",
              "    <tr>\n",
              "      <th>342</th>\n",
              "      <td>50.8</td>\n",
              "      <td>19.0</td>\n",
              "      <td>21.0</td>\n",
              "      <td>41.00</td>\n",
              "      <td>2</td>\n",
              "    </tr>\n",
              "    <tr>\n",
              "      <th>343</th>\n",
              "      <td>50.2</td>\n",
              "      <td>18.7</td>\n",
              "      <td>19.8</td>\n",
              "      <td>37.75</td>\n",
              "      <td>2</td>\n",
              "    </tr>\n",
              "  </tbody>\n",
              "</table>\n",
              "<p>342 rows × 5 columns</p>\n",
              "</div>\n",
              "      <button class=\"colab-df-convert\" onclick=\"convertToInteractive('df-f2433894-9744-4dc0-8925-9354f344d3be')\"\n",
              "              title=\"Convert this dataframe to an interactive table.\"\n",
              "              style=\"display:none;\">\n",
              "        \n",
              "  <svg xmlns=\"http://www.w3.org/2000/svg\" height=\"24px\"viewBox=\"0 0 24 24\"\n",
              "       width=\"24px\">\n",
              "    <path d=\"M0 0h24v24H0V0z\" fill=\"none\"/>\n",
              "    <path d=\"M18.56 5.44l.94 2.06.94-2.06 2.06-.94-2.06-.94-.94-2.06-.94 2.06-2.06.94zm-11 1L8.5 8.5l.94-2.06 2.06-.94-2.06-.94L8.5 2.5l-.94 2.06-2.06.94zm10 10l.94 2.06.94-2.06 2.06-.94-2.06-.94-.94-2.06-.94 2.06-2.06.94z\"/><path d=\"M17.41 7.96l-1.37-1.37c-.4-.4-.92-.59-1.43-.59-.52 0-1.04.2-1.43.59L10.3 9.45l-7.72 7.72c-.78.78-.78 2.05 0 2.83L4 21.41c.39.39.9.59 1.41.59.51 0 1.02-.2 1.41-.59l7.78-7.78 2.81-2.81c.8-.78.8-2.07 0-2.86zM5.41 20L4 18.59l7.72-7.72 1.47 1.35L5.41 20z\"/>\n",
              "  </svg>\n",
              "      </button>\n",
              "      \n",
              "  <style>\n",
              "    .colab-df-container {\n",
              "      display:flex;\n",
              "      flex-wrap:wrap;\n",
              "      gap: 12px;\n",
              "    }\n",
              "\n",
              "    .colab-df-convert {\n",
              "      background-color: #E8F0FE;\n",
              "      border: none;\n",
              "      border-radius: 50%;\n",
              "      cursor: pointer;\n",
              "      display: none;\n",
              "      fill: #1967D2;\n",
              "      height: 32px;\n",
              "      padding: 0 0 0 0;\n",
              "      width: 32px;\n",
              "    }\n",
              "\n",
              "    .colab-df-convert:hover {\n",
              "      background-color: #E2EBFA;\n",
              "      box-shadow: 0px 1px 2px rgba(60, 64, 67, 0.3), 0px 1px 3px 1px rgba(60, 64, 67, 0.15);\n",
              "      fill: #174EA6;\n",
              "    }\n",
              "\n",
              "    [theme=dark] .colab-df-convert {\n",
              "      background-color: #3B4455;\n",
              "      fill: #D2E3FC;\n",
              "    }\n",
              "\n",
              "    [theme=dark] .colab-df-convert:hover {\n",
              "      background-color: #434B5C;\n",
              "      box-shadow: 0px 1px 3px 1px rgba(0, 0, 0, 0.15);\n",
              "      filter: drop-shadow(0px 1px 2px rgba(0, 0, 0, 0.3));\n",
              "      fill: #FFFFFF;\n",
              "    }\n",
              "  </style>\n",
              "\n",
              "      <script>\n",
              "        const buttonEl =\n",
              "          document.querySelector('#df-f2433894-9744-4dc0-8925-9354f344d3be button.colab-df-convert');\n",
              "        buttonEl.style.display =\n",
              "          google.colab.kernel.accessAllowed ? 'block' : 'none';\n",
              "\n",
              "        async function convertToInteractive(key) {\n",
              "          const element = document.querySelector('#df-f2433894-9744-4dc0-8925-9354f344d3be');\n",
              "          const dataTable =\n",
              "            await google.colab.kernel.invokeFunction('convertToInteractive',\n",
              "                                                     [key], {});\n",
              "          if (!dataTable) return;\n",
              "\n",
              "          const docLinkHtml = 'Like what you see? Visit the ' +\n",
              "            '<a target=\"_blank\" href=https://colab.research.google.com/notebooks/data_table.ipynb>data table notebook</a>'\n",
              "            + ' to learn more about interactive tables.';\n",
              "          element.innerHTML = '';\n",
              "          dataTable['output_type'] = 'display_data';\n",
              "          await google.colab.output.renderOutput(dataTable, element);\n",
              "          const docLink = document.createElement('div');\n",
              "          docLink.innerHTML = docLinkHtml;\n",
              "          element.appendChild(docLink);\n",
              "        }\n",
              "      </script>\n",
              "    </div>\n",
              "  </div>\n",
              "  "
            ]
          },
          "metadata": {},
          "execution_count": 29
        }
      ]
    },
    {
      "cell_type": "code",
      "source": [
        "#oversampling\n",
        "for i in range(1,3):\n",
        "  penguins=penguins.append(penguins)\n",
        "penguins"
      ],
      "metadata": {
        "colab": {
          "base_uri": "https://localhost:8080/",
          "height": 516
        },
        "id": "7scPAj3WNvmK",
        "outputId": "e55379e0-436e-41f3-ebd8-c17e20640b86"
      },
      "execution_count": 30,
      "outputs": [
        {
          "output_type": "stream",
          "name": "stderr",
          "text": [
            "<ipython-input-30-cc5e30a70ba6>:3: FutureWarning: The frame.append method is deprecated and will be removed from pandas in a future version. Use pandas.concat instead.\n",
            "  penguins=penguins.append(penguins)\n",
            "<ipython-input-30-cc5e30a70ba6>:3: FutureWarning: The frame.append method is deprecated and will be removed from pandas in a future version. Use pandas.concat instead.\n",
            "  penguins=penguins.append(penguins)\n"
          ]
        },
        {
          "output_type": "execute_result",
          "data": {
            "text/plain": [
              "     CulmenLength  CulmenDepth  FlipperLength  BodyMass  Species\n",
              "0            39.1         18.7           18.1     37.50        0\n",
              "1            39.5         17.4           18.6     38.00        0\n",
              "2            40.3         18.0           19.5     32.50        0\n",
              "4            36.7         19.3           19.3     34.50        0\n",
              "5            39.3         20.6           19.0     36.50        0\n",
              "..            ...          ...            ...       ...      ...\n",
              "339          55.8         19.8           20.7     40.00        2\n",
              "340          43.5         18.1           20.2     34.00        2\n",
              "341          49.6         18.2           19.3     37.75        2\n",
              "342          50.8         19.0           21.0     41.00        2\n",
              "343          50.2         18.7           19.8     37.75        2\n",
              "\n",
              "[1368 rows x 5 columns]"
            ],
            "text/html": [
              "\n",
              "  <div id=\"df-fd121d52-f03e-46c2-8ddd-0fe2bd52d5fd\">\n",
              "    <div class=\"colab-df-container\">\n",
              "      <div>\n",
              "<style scoped>\n",
              "    .dataframe tbody tr th:only-of-type {\n",
              "        vertical-align: middle;\n",
              "    }\n",
              "\n",
              "    .dataframe tbody tr th {\n",
              "        vertical-align: top;\n",
              "    }\n",
              "\n",
              "    .dataframe thead th {\n",
              "        text-align: right;\n",
              "    }\n",
              "</style>\n",
              "<table border=\"1\" class=\"dataframe\">\n",
              "  <thead>\n",
              "    <tr style=\"text-align: right;\">\n",
              "      <th></th>\n",
              "      <th>CulmenLength</th>\n",
              "      <th>CulmenDepth</th>\n",
              "      <th>FlipperLength</th>\n",
              "      <th>BodyMass</th>\n",
              "      <th>Species</th>\n",
              "    </tr>\n",
              "  </thead>\n",
              "  <tbody>\n",
              "    <tr>\n",
              "      <th>0</th>\n",
              "      <td>39.1</td>\n",
              "      <td>18.7</td>\n",
              "      <td>18.1</td>\n",
              "      <td>37.50</td>\n",
              "      <td>0</td>\n",
              "    </tr>\n",
              "    <tr>\n",
              "      <th>1</th>\n",
              "      <td>39.5</td>\n",
              "      <td>17.4</td>\n",
              "      <td>18.6</td>\n",
              "      <td>38.00</td>\n",
              "      <td>0</td>\n",
              "    </tr>\n",
              "    <tr>\n",
              "      <th>2</th>\n",
              "      <td>40.3</td>\n",
              "      <td>18.0</td>\n",
              "      <td>19.5</td>\n",
              "      <td>32.50</td>\n",
              "      <td>0</td>\n",
              "    </tr>\n",
              "    <tr>\n",
              "      <th>4</th>\n",
              "      <td>36.7</td>\n",
              "      <td>19.3</td>\n",
              "      <td>19.3</td>\n",
              "      <td>34.50</td>\n",
              "      <td>0</td>\n",
              "    </tr>\n",
              "    <tr>\n",
              "      <th>5</th>\n",
              "      <td>39.3</td>\n",
              "      <td>20.6</td>\n",
              "      <td>19.0</td>\n",
              "      <td>36.50</td>\n",
              "      <td>0</td>\n",
              "    </tr>\n",
              "    <tr>\n",
              "      <th>...</th>\n",
              "      <td>...</td>\n",
              "      <td>...</td>\n",
              "      <td>...</td>\n",
              "      <td>...</td>\n",
              "      <td>...</td>\n",
              "    </tr>\n",
              "    <tr>\n",
              "      <th>339</th>\n",
              "      <td>55.8</td>\n",
              "      <td>19.8</td>\n",
              "      <td>20.7</td>\n",
              "      <td>40.00</td>\n",
              "      <td>2</td>\n",
              "    </tr>\n",
              "    <tr>\n",
              "      <th>340</th>\n",
              "      <td>43.5</td>\n",
              "      <td>18.1</td>\n",
              "      <td>20.2</td>\n",
              "      <td>34.00</td>\n",
              "      <td>2</td>\n",
              "    </tr>\n",
              "    <tr>\n",
              "      <th>341</th>\n",
              "      <td>49.6</td>\n",
              "      <td>18.2</td>\n",
              "      <td>19.3</td>\n",
              "      <td>37.75</td>\n",
              "      <td>2</td>\n",
              "    </tr>\n",
              "    <tr>\n",
              "      <th>342</th>\n",
              "      <td>50.8</td>\n",
              "      <td>19.0</td>\n",
              "      <td>21.0</td>\n",
              "      <td>41.00</td>\n",
              "      <td>2</td>\n",
              "    </tr>\n",
              "    <tr>\n",
              "      <th>343</th>\n",
              "      <td>50.2</td>\n",
              "      <td>18.7</td>\n",
              "      <td>19.8</td>\n",
              "      <td>37.75</td>\n",
              "      <td>2</td>\n",
              "    </tr>\n",
              "  </tbody>\n",
              "</table>\n",
              "<p>1368 rows × 5 columns</p>\n",
              "</div>\n",
              "      <button class=\"colab-df-convert\" onclick=\"convertToInteractive('df-fd121d52-f03e-46c2-8ddd-0fe2bd52d5fd')\"\n",
              "              title=\"Convert this dataframe to an interactive table.\"\n",
              "              style=\"display:none;\">\n",
              "        \n",
              "  <svg xmlns=\"http://www.w3.org/2000/svg\" height=\"24px\"viewBox=\"0 0 24 24\"\n",
              "       width=\"24px\">\n",
              "    <path d=\"M0 0h24v24H0V0z\" fill=\"none\"/>\n",
              "    <path d=\"M18.56 5.44l.94 2.06.94-2.06 2.06-.94-2.06-.94-.94-2.06-.94 2.06-2.06.94zm-11 1L8.5 8.5l.94-2.06 2.06-.94-2.06-.94L8.5 2.5l-.94 2.06-2.06.94zm10 10l.94 2.06.94-2.06 2.06-.94-2.06-.94-.94-2.06-.94 2.06-2.06.94z\"/><path d=\"M17.41 7.96l-1.37-1.37c-.4-.4-.92-.59-1.43-.59-.52 0-1.04.2-1.43.59L10.3 9.45l-7.72 7.72c-.78.78-.78 2.05 0 2.83L4 21.41c.39.39.9.59 1.41.59.51 0 1.02-.2 1.41-.59l7.78-7.78 2.81-2.81c.8-.78.8-2.07 0-2.86zM5.41 20L4 18.59l7.72-7.72 1.47 1.35L5.41 20z\"/>\n",
              "  </svg>\n",
              "      </button>\n",
              "      \n",
              "  <style>\n",
              "    .colab-df-container {\n",
              "      display:flex;\n",
              "      flex-wrap:wrap;\n",
              "      gap: 12px;\n",
              "    }\n",
              "\n",
              "    .colab-df-convert {\n",
              "      background-color: #E8F0FE;\n",
              "      border: none;\n",
              "      border-radius: 50%;\n",
              "      cursor: pointer;\n",
              "      display: none;\n",
              "      fill: #1967D2;\n",
              "      height: 32px;\n",
              "      padding: 0 0 0 0;\n",
              "      width: 32px;\n",
              "    }\n",
              "\n",
              "    .colab-df-convert:hover {\n",
              "      background-color: #E2EBFA;\n",
              "      box-shadow: 0px 1px 2px rgba(60, 64, 67, 0.3), 0px 1px 3px 1px rgba(60, 64, 67, 0.15);\n",
              "      fill: #174EA6;\n",
              "    }\n",
              "\n",
              "    [theme=dark] .colab-df-convert {\n",
              "      background-color: #3B4455;\n",
              "      fill: #D2E3FC;\n",
              "    }\n",
              "\n",
              "    [theme=dark] .colab-df-convert:hover {\n",
              "      background-color: #434B5C;\n",
              "      box-shadow: 0px 1px 3px 1px rgba(0, 0, 0, 0.15);\n",
              "      filter: drop-shadow(0px 1px 2px rgba(0, 0, 0, 0.3));\n",
              "      fill: #FFFFFF;\n",
              "    }\n",
              "  </style>\n",
              "\n",
              "      <script>\n",
              "        const buttonEl =\n",
              "          document.querySelector('#df-fd121d52-f03e-46c2-8ddd-0fe2bd52d5fd button.colab-df-convert');\n",
              "        buttonEl.style.display =\n",
              "          google.colab.kernel.accessAllowed ? 'block' : 'none';\n",
              "\n",
              "        async function convertToInteractive(key) {\n",
              "          const element = document.querySelector('#df-fd121d52-f03e-46c2-8ddd-0fe2bd52d5fd');\n",
              "          const dataTable =\n",
              "            await google.colab.kernel.invokeFunction('convertToInteractive',\n",
              "                                                     [key], {});\n",
              "          if (!dataTable) return;\n",
              "\n",
              "          const docLinkHtml = 'Like what you see? Visit the ' +\n",
              "            '<a target=\"_blank\" href=https://colab.research.google.com/notebooks/data_table.ipynb>data table notebook</a>'\n",
              "            + ' to learn more about interactive tables.';\n",
              "          element.innerHTML = '';\n",
              "          dataTable['output_type'] = 'display_data';\n",
              "          await google.colab.output.renderOutput(dataTable, element);\n",
              "          const docLink = document.createElement('div');\n",
              "          docLink.innerHTML = docLinkHtml;\n",
              "          element.appendChild(docLink);\n",
              "        }\n",
              "      </script>\n",
              "    </div>\n",
              "  </div>\n",
              "  "
            ]
          },
          "metadata": {},
          "execution_count": 30
        }
      ]
    },
    {
      "cell_type": "code",
      "source": [
        "penguin_classes = ['Adelie', 'Gentoo', 'Chinstrap']"
      ],
      "metadata": {
        "id": "Nydpw1PwOI_d"
      },
      "execution_count": 31,
      "outputs": []
    },
    {
      "cell_type": "code",
      "source": [
        "#spliting dataset 80/20\n",
        "features = ['CulmenLength','CulmenDepth','FlipperLength','BodyMass']\n",
        "label = 'Species'\n",
        "from sklearn.model_selection import train_test_split\n",
        "x_train, x_test, y_train, y_test = train_test_split(penguins[features].values,\n",
        "                                                    penguins[label].values,\n",
        "                                                    test_size=0.20,\n",
        "                                                    random_state=42)\n",
        "print ('Training Set: %d, Test Set: %d \\n' % (len(x_train), len(x_test)))\n",
        "print(\"Sample of features and labels:\")\n",
        "for n in range(0,24):\n",
        "    print(x_train[n], y_train[n], '(' + penguin_classes[y_train[n]] + ')')"
      ],
      "metadata": {
        "colab": {
          "base_uri": "https://localhost:8080/"
        },
        "id": "GBZZVtLHO0hR",
        "outputId": "e5607111-37e4-4ebd-f640-969f71ce2e70"
      },
      "execution_count": 103,
      "outputs": [
        {
          "output_type": "stream",
          "name": "stdout",
          "text": [
            "Training Set: 1094, Test Set: 274 \n",
            "\n",
            "Sample of features and labels:\n",
            "[45.5 14.5 21.2 47.5] 1 (Gentoo)\n",
            "[37.8 18.1 19.3 37.5] 0 (Adelie)\n",
            "[49.5 19.  20.  38. ] 2 (Chinstrap)\n",
            "[41.3 21.1 19.5 44. ] 0 (Adelie)\n",
            "[48.5 17.5 19.1 34. ] 2 (Chinstrap)\n",
            "[36.4 17.1 18.4 28.5] 0 (Adelie)\n",
            "[34.5 18.1 18.7 29. ] 0 (Adelie)\n",
            "[41.4 18.6 19.1 37. ] 0 (Adelie)\n",
            "[45.5 14.5 21.2 47.5] 1 (Gentoo)\n",
            "[38.3 19.2 18.9 39.5] 0 (Adelie)\n",
            "[38.1  16.5  19.8  38.25] 0 (Adelie)\n",
            "[46.6 14.2 21.  48.5] 1 (Gentoo)\n",
            "[43.5 14.2 22.  47. ] 1 (Gentoo)\n",
            "[39.  18.7 18.5 36.5] 0 (Adelie)\n",
            "[34.4  18.4  18.4  33.25] 0 (Adelie)\n",
            "[49.  19.6 21.2 43. ] 2 (Chinstrap)\n",
            "[42.2  19.5  19.7  42.75] 0 (Adelie)\n",
            "[47.  17.3 18.5 37. ] 2 (Chinstrap)\n",
            "[47.  17.3 18.5 37. ] 2 (Chinstrap)\n",
            "[50.4 15.7 22.2 57.5] 1 (Gentoo)\n",
            "[50.1 17.9 19.  34. ] 2 (Chinstrap)\n",
            "[50.2 14.3 21.8 57. ] 1 (Gentoo)\n",
            "[39.6 18.1 18.6 44.5] 0 (Adelie)\n",
            "[48.7 15.1 22.2 53.5] 1 (Gentoo)\n"
          ]
        }
      ]
    },
    {
      "cell_type": "code",
      "source": [
        "print(\"x_train shape\",x_train.shape)\n",
        "print(\"x_test shape\",x_test.shape)\n",
        "print(\"y_train shape\",y_train.shape)\n",
        "print(\"y_test shape\",y_test.shape)"
      ],
      "metadata": {
        "colab": {
          "base_uri": "https://localhost:8080/"
        },
        "id": "qxLoI3occL05",
        "outputId": "5286b5bd-7509-42cb-c40d-42365e4be945"
      },
      "execution_count": 123,
      "outputs": [
        {
          "output_type": "stream",
          "name": "stdout",
          "text": [
            "x_train shape (1094, 4)\n",
            "x_test shape (274, 4)\n",
            "y_train shape (1094, 1)\n",
            "y_test shape (274, 1)\n"
          ]
        }
      ]
    },
    {
      "cell_type": "markdown",
      "source": [
        "labels should have one column ....lets reshape"
      ],
      "metadata": {
        "id": "tlAojfWCcsAJ"
      }
    },
    {
      "cell_type": "code",
      "source": [
        "#import numpy as np\n",
        "#y_train=np.reshape(y_train,(-1,1))\n",
        "#y_test=np.reshape(y_test,(-1,1))"
      ],
      "metadata": {
        "id": "mZBMXsECdDX5"
      },
      "execution_count": 124,
      "outputs": []
    },
    {
      "cell_type": "code",
      "source": [
        "y_train.shape"
      ],
      "metadata": {
        "colab": {
          "base_uri": "https://localhost:8080/"
        },
        "id": "82Bzufib4X1A",
        "outputId": "c992dd71-71d7-41ab-9c26-71da205928e0"
      },
      "execution_count": 125,
      "outputs": [
        {
          "output_type": "execute_result",
          "data": {
            "text/plain": [
              "(1094, 1)"
            ]
          },
          "metadata": {},
          "execution_count": 125
        }
      ]
    },
    {
      "cell_type": "code",
      "source": [
        "print(\"y_train shape\",y_train.shape)\n",
        "print(\"y_test shape\",y_test.shape)"
      ],
      "metadata": {
        "colab": {
          "base_uri": "https://localhost:8080/"
        },
        "id": "RxMMnSzudUiN",
        "outputId": "99c8b8bf-2f88-4a13-cbd1-8ec8e910079d"
      },
      "execution_count": 126,
      "outputs": [
        {
          "output_type": "stream",
          "name": "stdout",
          "text": [
            "y_train shape (1094, 1)\n",
            "y_test shape (274, 1)\n"
          ]
        }
      ]
    },
    {
      "cell_type": "code",
      "source": [
        "\n",
        "#importing dependncies and printing versions\n",
        "import tensorflow\n",
        "from tensorflow import keras\n",
        "from tensorflow.keras import models\n",
        "from tensorflow.keras.models import Sequential\n",
        "from tensorflow.keras.layers import Dense\n",
        "from tensorflow.keras import utils\n",
        "from tensorflow.keras import optimizers\n",
        "\n",
        "# Set random seed for reproducability\n",
        "tensorflow.random.set_seed(0)\n",
        "\n",
        "print(\"Libraries imported.\")\n",
        "print('Keras version:',keras.__version__)\n",
        "print('TensorFlow version:',tensorflow.__version__)"
      ],
      "metadata": {
        "colab": {
          "base_uri": "https://localhost:8080/"
        },
        "id": "qDt5gejZPZwu",
        "outputId": "4de7a521-3a74-4217-cdd3-9343d1086f4a"
      },
      "execution_count": 127,
      "outputs": [
        {
          "output_type": "stream",
          "name": "stdout",
          "text": [
            "Libraries imported.\n",
            "Keras version: 2.12.0\n",
            "TensorFlow version: 2.12.0\n"
          ]
        }
      ]
    },
    {
      "cell_type": "markdown",
      "source": [
        "we need to set the data type of our features to 32-bit floating point numbers, and specify that the labels represent categorical classes rather than numeric values"
      ],
      "metadata": {
        "id": "LjDAatHmSJBI"
      }
    },
    {
      "cell_type": "code",
      "source": [
        "y_train.shape"
      ],
      "metadata": {
        "colab": {
          "base_uri": "https://localhost:8080/"
        },
        "id": "YHHoP5W24P7B",
        "outputId": "e5e03d46-94bf-4376-bc7f-db83b5fc1e91"
      },
      "execution_count": 128,
      "outputs": [
        {
          "output_type": "execute_result",
          "data": {
            "text/plain": [
              "(1094, 1)"
            ]
          },
          "metadata": {},
          "execution_count": 128
        }
      ]
    },
    {
      "cell_type": "code",
      "source": [
        "import numpy as np\n",
        "# Set data types for float features\n",
        "x_train = x_train.astype('float32')\n",
        "x_test = x_test.astype('float32')\n",
        "\n",
        "# Set data types for categorical labels(new thing i learned in this)\n",
        "\n",
        "y_train = utils.to_categorical(y_train)\n",
        "y_test = utils.to_categorical(y_test)\n"
      ],
      "metadata": {
        "id": "8L6z1FUzRZIE"
      },
      "execution_count": 129,
      "outputs": []
    },
    {
      "cell_type": "code",
      "source": [
        "print(x_train.shape)\n",
        "print(x_test.shape)\n",
        "print(y_train.shape)\n",
        "print(y_test.shape)"
      ],
      "metadata": {
        "colab": {
          "base_uri": "https://localhost:8080/"
        },
        "id": "mD4Zwe1UZVAJ",
        "outputId": "1480ba62-8b15-40a9-8af7-0bff3d8ad933"
      },
      "execution_count": 130,
      "outputs": [
        {
          "output_type": "stream",
          "name": "stdout",
          "text": [
            "(1094, 4)\n",
            "(274, 4)\n",
            "(1094, 3)\n",
            "(274, 3)\n"
          ]
        }
      ]
    },
    {
      "cell_type": "code",
      "source": [
        "len(features)"
      ],
      "metadata": {
        "colab": {
          "base_uri": "https://localhost:8080/"
        },
        "id": "4oEuyCRw7As-",
        "outputId": "058869d0-d9a0-482b-ec23-4d6e7a91b9d2"
      },
      "execution_count": 131,
      "outputs": [
        {
          "output_type": "execute_result",
          "data": {
            "text/plain": [
              "4"
            ]
          },
          "metadata": {},
          "execution_count": 131
        }
      ]
    },
    {
      "cell_type": "code",
      "source": [
        "len(penguin_classes)"
      ],
      "metadata": {
        "colab": {
          "base_uri": "https://localhost:8080/"
        },
        "id": "gXxJmJKW92zY",
        "outputId": "27444b19-b15d-472c-c4c4-aad2ef1652c1"
      },
      "execution_count": 132,
      "outputs": [
        {
          "output_type": "execute_result",
          "data": {
            "text/plain": [
              "3"
            ]
          },
          "metadata": {},
          "execution_count": 132
        }
      ]
    },
    {
      "cell_type": "code",
      "source": [
        "#creating model\n",
        "hl=10#number of hidden layer nodes\n",
        "model=Sequential()\n",
        "model.add(Dense(hl, input_dim=len(features), activation='relu'))\n",
        "model.add(Dense(hl,input_dim=hl,activation='relu'))\n",
        "model.add(Dense(len(penguin_classes),  activation='softmax'))\n",
        "model.summary()"
      ],
      "metadata": {
        "colab": {
          "base_uri": "https://localhost:8080/"
        },
        "id": "y5f52eDMReGH",
        "outputId": "e2ee83f6-224d-48eb-bc77-ed39768aca0d"
      },
      "execution_count": 133,
      "outputs": [
        {
          "output_type": "stream",
          "name": "stdout",
          "text": [
            "Model: \"sequential_11\"\n",
            "_________________________________________________________________\n",
            " Layer (type)                Output Shape              Param #   \n",
            "=================================================================\n",
            " dense_28 (Dense)            (None, 10)                50        \n",
            "                                                                 \n",
            " dense_29 (Dense)            (None, 10)                110       \n",
            "                                                                 \n",
            " dense_30 (Dense)            (None, 3)                 33        \n",
            "                                                                 \n",
            "=================================================================\n",
            "Total params: 193\n",
            "Trainable params: 193\n",
            "Non-trainable params: 0\n",
            "_________________________________________________________________\n"
          ]
        }
      ]
    },
    {
      "cell_type": "markdown",
      "source": [
        "1.model = Sequential(): This line initializes a sequential model, which is a linear stack of layers. It allows you to build the neural network model layer by layer.\n",
        "\n",
        "2.model.add(Dense(hl, input_dim=len(features), activation='relu')): This line adds a dense (fully connected) layer to the model. The Dense layer represents a set of neurons that are fully connected to the previous layer. It has three important arguments:\n",
        "\n",
        "3.hl: The number of nodes (neurons) in the hidden layer. In your code, hl is set to 10.\n",
        "\n",
        "4.input_dim: The dimensionality (number of features) of the input data. It is set to len(features), which suggests that the length of the features list determines the input dimensionality.\n",
        "\n",
        "5.activation='relu': The activation function applied to the outputs of the neurons in the layer. In this case, 'relu' refers to the Rectified Linear Unit activation function, which introduces non-linearity to the model.\n"
      ],
      "metadata": {
        "id": "B58Je16CW_S1"
      }
    },
    {
      "cell_type": "markdown",
      "source": [
        "\n",
        "structure of model\n",
        "\n",
        "Layer 1: There are four input values going to ten output nodes, so there should be 4 x 10 weights and 10 bias values.\n",
        "\n",
        "Layer 2: There are ten input values going to ten output nodes, so there should be 10 x 10 weights and 10 bias values.\n",
        "\n",
        "Layer 3: There are ten input values going to three output nodes, so there should be 10 x 3 weights and 3 bias values."
      ],
      "metadata": {
        "id": "tl80i8mhVuI8"
      }
    },
    {
      "cell_type": "code",
      "source": [
        "learning_rate=0.001\n",
        "opt=optimizers.Adam(lr=learning_rate)\n",
        "model.compile(loss='categorical_crossentropy',\n",
        "              optimizer=opt,\n",
        "              metrics=['accuracy'] )\n",
        "num_epochs = 50\n",
        "history = model.fit(x_train, y_train, epochs=num_epochs, batch_size=10, validation_data=(x_test, y_test))"
      ],
      "metadata": {
        "colab": {
          "base_uri": "https://localhost:8080/"
        },
        "id": "krJJTV0BVNWE",
        "outputId": "f2d43b3d-d7e6-4415-cab1-92705ab1f7dc"
      },
      "execution_count": 136,
      "outputs": [
        {
          "output_type": "stream",
          "name": "stderr",
          "text": [
            "WARNING:absl:`lr` is deprecated in Keras optimizer, please use `learning_rate` or use the legacy optimizer, e.g.,tf.keras.optimizers.legacy.Adam.\n"
          ]
        },
        {
          "output_type": "stream",
          "name": "stdout",
          "text": [
            "Epoch 1/50\n",
            "110/110 [==============================] - 1s 4ms/step - loss: 0.0235 - accuracy: 0.9927 - val_loss: 0.0348 - val_accuracy: 0.9927\n",
            "Epoch 2/50\n",
            "110/110 [==============================] - 0s 2ms/step - loss: 0.0220 - accuracy: 0.9918 - val_loss: 0.0331 - val_accuracy: 0.9854\n",
            "Epoch 3/50\n",
            "110/110 [==============================] - 0s 2ms/step - loss: 0.0236 - accuracy: 0.9918 - val_loss: 0.0349 - val_accuracy: 0.9891\n",
            "Epoch 4/50\n",
            "110/110 [==============================] - 0s 3ms/step - loss: 0.0242 - accuracy: 0.9918 - val_loss: 0.0411 - val_accuracy: 0.9818\n",
            "Epoch 5/50\n",
            "110/110 [==============================] - 0s 2ms/step - loss: 0.0211 - accuracy: 0.9927 - val_loss: 0.0445 - val_accuracy: 0.9781\n",
            "Epoch 6/50\n",
            "110/110 [==============================] - 0s 2ms/step - loss: 0.0214 - accuracy: 0.9954 - val_loss: 0.0418 - val_accuracy: 0.9818\n",
            "Epoch 7/50\n",
            "110/110 [==============================] - 0s 2ms/step - loss: 0.0194 - accuracy: 0.9954 - val_loss: 0.0298 - val_accuracy: 0.9854\n",
            "Epoch 8/50\n",
            "110/110 [==============================] - 0s 2ms/step - loss: 0.0216 - accuracy: 0.9899 - val_loss: 0.0344 - val_accuracy: 0.9927\n",
            "Epoch 9/50\n",
            "110/110 [==============================] - 0s 2ms/step - loss: 0.0234 - accuracy: 0.9881 - val_loss: 0.0344 - val_accuracy: 0.9818\n",
            "Epoch 10/50\n",
            "110/110 [==============================] - 0s 2ms/step - loss: 0.0189 - accuracy: 0.9963 - val_loss: 0.0465 - val_accuracy: 0.9781\n",
            "Epoch 11/50\n",
            "110/110 [==============================] - 0s 2ms/step - loss: 0.0223 - accuracy: 0.9899 - val_loss: 0.0279 - val_accuracy: 0.9854\n",
            "Epoch 12/50\n",
            "110/110 [==============================] - 0s 2ms/step - loss: 0.0197 - accuracy: 0.9918 - val_loss: 0.0418 - val_accuracy: 0.9818\n",
            "Epoch 13/50\n",
            "110/110 [==============================] - 0s 2ms/step - loss: 0.0218 - accuracy: 0.9899 - val_loss: 0.0539 - val_accuracy: 0.9708\n",
            "Epoch 14/50\n",
            "110/110 [==============================] - 0s 2ms/step - loss: 0.0170 - accuracy: 0.9945 - val_loss: 0.0463 - val_accuracy: 0.9818\n",
            "Epoch 15/50\n",
            "110/110 [==============================] - 0s 2ms/step - loss: 0.0184 - accuracy: 0.9918 - val_loss: 0.0408 - val_accuracy: 0.9818\n",
            "Epoch 16/50\n",
            "110/110 [==============================] - 0s 2ms/step - loss: 0.0175 - accuracy: 0.9973 - val_loss: 0.0376 - val_accuracy: 0.9818\n",
            "Epoch 17/50\n",
            "110/110 [==============================] - 0s 2ms/step - loss: 0.0206 - accuracy: 0.9936 - val_loss: 0.0287 - val_accuracy: 0.9854\n",
            "Epoch 18/50\n",
            "110/110 [==============================] - 0s 2ms/step - loss: 0.0171 - accuracy: 0.9963 - val_loss: 0.0265 - val_accuracy: 0.9927\n",
            "Epoch 19/50\n",
            "110/110 [==============================] - 0s 2ms/step - loss: 0.0180 - accuracy: 0.9963 - val_loss: 0.0353 - val_accuracy: 0.9818\n",
            "Epoch 20/50\n",
            "110/110 [==============================] - 0s 2ms/step - loss: 0.0177 - accuracy: 0.9936 - val_loss: 0.0379 - val_accuracy: 0.9818\n",
            "Epoch 21/50\n",
            "110/110 [==============================] - 0s 2ms/step - loss: 0.0211 - accuracy: 0.9909 - val_loss: 0.0243 - val_accuracy: 0.9854\n",
            "Epoch 22/50\n",
            "110/110 [==============================] - 0s 2ms/step - loss: 0.0190 - accuracy: 0.9927 - val_loss: 0.0245 - val_accuracy: 0.9854\n",
            "Epoch 23/50\n",
            "110/110 [==============================] - 0s 2ms/step - loss: 0.0227 - accuracy: 0.9899 - val_loss: 0.0260 - val_accuracy: 0.9854\n",
            "Epoch 24/50\n",
            "110/110 [==============================] - 0s 2ms/step - loss: 0.0200 - accuracy: 0.9945 - val_loss: 0.0338 - val_accuracy: 0.9818\n",
            "Epoch 25/50\n",
            "110/110 [==============================] - 0s 2ms/step - loss: 0.0197 - accuracy: 0.9909 - val_loss: 0.0289 - val_accuracy: 0.9927\n",
            "Epoch 26/50\n",
            "110/110 [==============================] - 0s 2ms/step - loss: 0.0157 - accuracy: 0.9954 - val_loss: 0.0267 - val_accuracy: 0.9854\n",
            "Epoch 27/50\n",
            "110/110 [==============================] - 0s 3ms/step - loss: 0.0189 - accuracy: 0.9936 - val_loss: 0.0628 - val_accuracy: 0.9672\n",
            "Epoch 28/50\n",
            "110/110 [==============================] - 0s 3ms/step - loss: 0.0154 - accuracy: 0.9936 - val_loss: 0.0356 - val_accuracy: 0.9818\n",
            "Epoch 29/50\n",
            "110/110 [==============================] - 0s 3ms/step - loss: 0.0157 - accuracy: 0.9954 - val_loss: 0.0334 - val_accuracy: 0.9818\n",
            "Epoch 30/50\n",
            "110/110 [==============================] - 0s 3ms/step - loss: 0.0194 - accuracy: 0.9909 - val_loss: 0.0230 - val_accuracy: 0.9854\n",
            "Epoch 31/50\n",
            "110/110 [==============================] - 0s 3ms/step - loss: 0.0219 - accuracy: 0.9899 - val_loss: 0.0261 - val_accuracy: 0.9927\n",
            "Epoch 32/50\n",
            "110/110 [==============================] - 0s 3ms/step - loss: 0.0161 - accuracy: 0.9945 - val_loss: 0.0462 - val_accuracy: 0.9818\n",
            "Epoch 33/50\n",
            "110/110 [==============================] - 0s 3ms/step - loss: 0.0205 - accuracy: 0.9936 - val_loss: 0.0355 - val_accuracy: 0.9818\n",
            "Epoch 34/50\n",
            "110/110 [==============================] - 0s 3ms/step - loss: 0.0155 - accuracy: 0.9927 - val_loss: 0.0279 - val_accuracy: 0.9927\n",
            "Epoch 35/50\n",
            "110/110 [==============================] - 0s 3ms/step - loss: 0.0175 - accuracy: 0.9909 - val_loss: 0.0333 - val_accuracy: 0.9818\n",
            "Epoch 36/50\n",
            "110/110 [==============================] - 0s 2ms/step - loss: 0.0144 - accuracy: 0.9954 - val_loss: 0.0242 - val_accuracy: 0.9927\n",
            "Epoch 37/50\n",
            "110/110 [==============================] - 0s 2ms/step - loss: 0.0162 - accuracy: 0.9945 - val_loss: 0.0241 - val_accuracy: 0.9854\n",
            "Epoch 38/50\n",
            "110/110 [==============================] - 0s 3ms/step - loss: 0.0181 - accuracy: 0.9936 - val_loss: 0.0297 - val_accuracy: 0.9927\n",
            "Epoch 39/50\n",
            "110/110 [==============================] - 0s 2ms/step - loss: 0.0165 - accuracy: 0.9936 - val_loss: 0.0450 - val_accuracy: 0.9818\n",
            "Epoch 40/50\n",
            "110/110 [==============================] - 0s 2ms/step - loss: 0.0161 - accuracy: 0.9945 - val_loss: 0.0221 - val_accuracy: 0.9854\n",
            "Epoch 41/50\n",
            "110/110 [==============================] - 0s 2ms/step - loss: 0.0157 - accuracy: 0.9945 - val_loss: 0.0232 - val_accuracy: 0.9927\n",
            "Epoch 42/50\n",
            "110/110 [==============================] - 0s 2ms/step - loss: 0.0158 - accuracy: 0.9918 - val_loss: 0.0238 - val_accuracy: 0.9854\n",
            "Epoch 43/50\n",
            "110/110 [==============================] - 0s 2ms/step - loss: 0.0145 - accuracy: 0.9927 - val_loss: 0.0277 - val_accuracy: 0.9927\n",
            "Epoch 44/50\n",
            "110/110 [==============================] - 0s 2ms/step - loss: 0.0143 - accuracy: 0.9945 - val_loss: 0.0238 - val_accuracy: 0.9927\n",
            "Epoch 45/50\n",
            "110/110 [==============================] - 0s 2ms/step - loss: 0.0142 - accuracy: 0.9945 - val_loss: 0.0246 - val_accuracy: 0.9927\n",
            "Epoch 46/50\n",
            "110/110 [==============================] - 0s 2ms/step - loss: 0.0140 - accuracy: 0.9945 - val_loss: 0.0237 - val_accuracy: 0.9927\n",
            "Epoch 47/50\n",
            "110/110 [==============================] - 0s 2ms/step - loss: 0.0151 - accuracy: 0.9945 - val_loss: 0.0271 - val_accuracy: 0.9927\n",
            "Epoch 48/50\n",
            "110/110 [==============================] - 0s 2ms/step - loss: 0.0222 - accuracy: 0.9881 - val_loss: 0.0487 - val_accuracy: 0.9781\n",
            "Epoch 49/50\n",
            "110/110 [==============================] - 0s 2ms/step - loss: 0.0139 - accuracy: 0.9936 - val_loss: 0.0215 - val_accuracy: 0.9927\n",
            "Epoch 50/50\n",
            "110/110 [==============================] - 0s 2ms/step - loss: 0.0156 - accuracy: 0.9945 - val_loss: 0.0228 - val_accuracy: 0.9927\n"
          ]
        }
      ]
    },
    {
      "cell_type": "code",
      "source": [
        "from matplotlib import pyplot as plt\n",
        "\n",
        "epoch_nums = range(1,num_epochs+1)\n",
        "training_loss = history.history[\"loss\"]\n",
        "validation_loss = history.history[\"val_loss\"]\n",
        "plt.plot(epoch_nums, training_loss)\n",
        "plt.plot(epoch_nums, validation_loss)\n",
        "plt.xlabel('epoch')\n",
        "plt.ylabel('loss')\n",
        "plt.legend(['training', 'validation'], loc='upper right')\n",
        "plt.show()"
      ],
      "metadata": {
        "id": "U7IDv69ZYpdD",
        "colab": {
          "base_uri": "https://localhost:8080/",
          "height": 449
        },
        "outputId": "b7b4bfb4-d9bc-468e-c33f-5414b671f40d"
      },
      "execution_count": 137,
      "outputs": [
        {
          "output_type": "display_data",
          "data": {
            "text/plain": [
              "<Figure size 640x480 with 1 Axes>"
            ],
            "image/png": "[encoded data removed]"
          },
          "metadata": {}
        }
      ]
    },
    {
      "cell_type": "code",
      "source": [
        "import numpy as np\n",
        "from sklearn.metrics import confusion_matrix\n",
        "import matplotlib.pyplot as plt\n",
        "%matplotlib inline\n",
        "\n",
        "\n",
        "class_probabilities = model.predict(x_test)\n",
        "predictions = np.argmax(class_probabilities, axis=1)\n",
        "true_labels = np.argmax(y_test, axis=1)\n",
        "\n",
        "# Plot the confusion matrix\n",
        "cm = confusion_matrix(true_labels, predictions)\n",
        "plt.imshow(cm, interpolation=\"nearest\", cmap=plt.cm.Blues)\n",
        "plt.colorbar()\n",
        "tick_marks = np.arange(len(penguin_classes))\n",
        "plt.xticks(tick_marks, penguin_classes, rotation=85)\n",
        "plt.yticks(tick_marks, penguin_classes)\n",
        "plt.xlabel(\"Predicted Species\")\n",
        "plt.ylabel(\"Actual Species\")\n",
        "plt.show()"
      ],
      "metadata": {
        "id": "MBIywJqbYuZu",
        "colab": {
          "base_uri": "https://localhost:8080/",
          "height": 527
        },
        "outputId": "1bbc1ff0-eaef-437e-f054-a96172aedb76"
      },
      "execution_count": 139,
      "outputs": [
        {
          "output_type": "stream",
          "name": "stdout",
          "text": [
            "9/9 [==============================] - 0s 2ms/step\n"
          ]
        },
        {
          "output_type": "display_data",
          "data": {
            "text/plain": [
              "<Figure size 640x480 with 2 Axes>"
            ],
            "image/png": "[encoded data removed]"
          },
          "metadata": {}
        }
      ]
    },
    {
      "cell_type": "markdown",
      "source": [
        "The confusion matrix should show a strong diagonal line indicating that there are more correct than incorrect predictions for each class."
      ],
      "metadata": {
        "id": "J_OW1dQDXIwN"
      }
    },
    {
      "cell_type": "code",
      "source": [
        "#saving model\n",
        "# Save the trained model\n",
        "modelFileName = 'models/penguin-classifier.h5'\n",
        "model.save(modelFileName)\n",
        "del model  # deletes the existing model variable\n",
        "print('model saved as', modelFileName)"
      ],
      "metadata": {
        "colab": {
          "base_uri": "https://localhost:8080/"
        },
        "id": "6kpuLOdZS7mD",
        "outputId": "74eeba29-ce46-47fd-d0f0-1c239d3e2802"
      },
      "execution_count": 140,
      "outputs": [
        {
          "output_type": "stream",
          "name": "stdout",
          "text": [
            "model saved as models/penguin-classifier.h5\n"
          ]
        }
      ]
    },
    {
      "cell_type": "code",
      "source": [
        "# Load the saved model\n",
        "model = models.load_model(modelFileName)\n",
        "\n",
        "# CReate a new array of features\n",
        "x_new = np.array([[50.4,15.3,20,50]])\n",
        "print ('New sample: {}'.format(x_new))\n",
        "\n",
        "# Use the model to predict the class\n",
        "class_probabilities = model.predict(x_new)\n",
        "predictions = np.argmax(class_probabilities, axis=1)\n",
        "\n",
        "print(penguin_classes[predictions[0]])"
      ],
      "metadata": {
        "colab": {
          "base_uri": "https://localhost:8080/"
        },
        "id": "FEvQIZ5tXi6_",
        "outputId": "a170b617-ea1a-4e2a-c961-0e369e47525c"
      },
      "execution_count": 141,
      "outputs": [
        {
          "output_type": "stream",
          "name": "stdout",
          "text": [
            "New sample: [[50.4 15.3 20.  50. ]]\n",
            "1/1 [==============================] - 0s 54ms/step\n",
            "Gentoo\n"
          ]
        }
      ]
    },
    {
      "cell_type": "code",
      "source": [],
      "metadata": {
        "id": "2fKA58lEXj3D"
      },
      "execution_count": null,
      "outputs": []
    }
  ]
}